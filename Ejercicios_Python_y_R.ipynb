{
  "nbformat": 4,
  "nbformat_minor": 0,
  "metadata": {
    "colab": {
      "provenance": [],
      "authorship_tag": "ABX9TyM6ySpugf3QiyBrAKZLGwbt",
      "include_colab_link": true
    },
    "kernelspec": {
      "name": "python3",
      "display_name": "Python 3"
    },
    "language_info": {
      "name": "python"
    }
  },
  "cells": [
    {
      "cell_type": "markdown",
      "metadata": {
        "id": "view-in-github",
        "colab_type": "text"
      },
      "source": [
        "<a href=\"https://colab.research.google.com/github/danigz6/P.I.A/blob/main/Ejercicios_Python_y_R.ipynb\" target=\"_parent\"><img src=\"https://colab.research.google.com/assets/colab-badge.svg\" alt=\"Open In Colab\"/></a>"
      ]
    },
    {
      "cell_type": "markdown",
      "source": [
        "# Ejercicios de R:"
      ],
      "metadata": {
        "id": "_2eW3_TgBDVg"
      }
    },
    {
      "cell_type": "markdown",
      "source": [
        "1. Creación de un Vector:"
      ],
      "metadata": {
        "id": "3FmabFKpBPTc"
      }
    },
    {
      "cell_type": "code",
      "execution_count": null,
      "metadata": {
        "id": "ldKq-GrS6AP3"
      },
      "outputs": [],
      "source": [
        "edades <- c(25, 30, 40, 35, 28)"
      ]
    },
    {
      "cell_type": "markdown",
      "source": [
        "2. Cálculo de Promedio:"
      ],
      "metadata": {
        "id": "SY1dnVuJBf2W"
      }
    },
    {
      "cell_type": "code",
      "source": [
        "promedio_edades <- mean(edades)"
      ],
      "metadata": {
        "id": "HAdsc_5BB91r"
      },
      "execution_count": null,
      "outputs": []
    },
    {
      "cell_type": "markdown",
      "source": [
        "3. Gráfico de Barras:"
      ],
      "metadata": {
        "id": "Ifp1lQuGBiIh"
      }
    },
    {
      "cell_type": "code",
      "source": [
        "library(ggplot2)\n",
        "ggplot(data.frame(edades, persona=1:5), aes(x=factor(persona), y=edades)) +\n",
        "  geom_bar(stat=\"identity\")"
      ],
      "metadata": {
        "colab": {
          "base_uri": "https://localhost:8080/",
          "height": 437
        },
        "id": "CviFHSeJB_yz",
        "outputId": "401e2f16-e35e-4b40-9e34-ffbca5d4dfb1"
      },
      "execution_count": null,
      "outputs": [
        {
          "output_type": "display_data",
          "data": {
            "text/plain": [
              "plot without title"
            ],
            "image/png": "[encoded data removed]"
          },
          "metadata": {
            "image/png": {
              "width": 420,
              "height": 420
            }
          }
        }
      ]
    },
    {
      "cell_type": "markdown",
      "source": [
        "4. Suma de Números Pares:\n",
        "\n"
      ],
      "metadata": {
        "id": "92-f_wteBkYO"
      }
    },
    {
      "cell_type": "code",
      "source": [
        "suma_pares <- function(n) {\n",
        "  sum(seq(2, n, 2))\n",
        "}"
      ],
      "metadata": {
        "id": "q2C6I3quCCGn"
      },
      "execution_count": null,
      "outputs": []
    },
    {
      "cell_type": "markdown",
      "source": [
        "5. Cálculo de Factorial:\n",
        "\n"
      ],
      "metadata": {
        "id": "9wB7nE-7Bmbt"
      }
    },
    {
      "cell_type": "code",
      "source": [
        "factorial_n <- function(n) {\n",
        "  factorial(n)\n",
        "}"
      ],
      "metadata": {
        "id": "v9IqtzaiCDo9"
      },
      "execution_count": null,
      "outputs": []
    },
    {
      "cell_type": "markdown",
      "source": [
        "6. Generación de Números Aleatorios:\n",
        "\n"
      ],
      "metadata": {
        "id": "wQGFWljyBoTt"
      }
    },
    {
      "cell_type": "code",
      "source": [
        "numeros_aleatorios <- sample(1:100, 10, replace=TRUE)"
      ],
      "metadata": {
        "id": "ssabgN9iCFXZ"
      },
      "execution_count": null,
      "outputs": []
    },
    {
      "cell_type": "markdown",
      "source": [
        "7. Filtrado de Datos:\n",
        "\n"
      ],
      "metadata": {
        "id": "mt6G21r8Bpx2"
      }
    },
    {
      "cell_type": "code",
      "source": [
        "iris_filtrado <- subset(iris, Petal.Length > 4)"
      ],
      "metadata": {
        "id": "mqxvL7XXCH0b"
      },
      "execution_count": null,
      "outputs": []
    },
    {
      "cell_type": "markdown",
      "source": [
        "8. Tablas de Contingencia:\n",
        "\n"
      ],
      "metadata": {
        "id": "b0tQ5rF6Bqzl"
      }
    },
    {
      "cell_type": "code",
      "source": [
        "tabla_contingencia <- table(iris$Species)"
      ],
      "metadata": {
        "id": "_C2sQesiCJcS"
      },
      "execution_count": null,
      "outputs": []
    },
    {
      "cell_type": "markdown",
      "source": [
        "9. Cálculo de Correlación:\n",
        "\n"
      ],
      "metadata": {
        "id": "nt5SDOs3Bsq-"
      }
    },
    {
      "cell_type": "code",
      "source": [
        "correlacion <- cor(iris$Sepal.Length, iris$Sepal.Width)"
      ],
      "metadata": {
        "id": "OhlOfKFLCKus"
      },
      "execution_count": null,
      "outputs": []
    },
    {
      "cell_type": "markdown",
      "source": [
        "10. Histograma Personalizado:\n",
        "\n"
      ],
      "metadata": {
        "id": "bf1gXxo6Bt52"
      }
    },
    {
      "cell_type": "code",
      "source": [
        "ggplot(iris, aes(x=Sepal.Length)) +\n",
        "  geom_histogram(binwidth=0.5, fill=\"blue\", color=\"black\")"
      ],
      "metadata": {
        "colab": {
          "base_uri": "https://localhost:8080/",
          "height": 437
        },
        "id": "3d2nph11CMYH",
        "outputId": "53bef45d-6495-4c9b-e600-6bb49096bbe0"
      },
      "execution_count": null,
      "outputs": [
        {
          "output_type": "display_data",
          "data": {
            "text/plain": [
              "plot without title"
            ],
            "image/png": "[encoded data removed]"
          },
          "metadata": {
            "image/png": {
              "width": 420,
              "height": 420
            }
          }
        }
      ]
    },
    {
      "cell_type": "markdown",
      "source": [
        "# Ejercicios de Python:"
      ],
      "metadata": {
        "id": "8tH83r8uBvGB"
      }
    },
    {
      "cell_type": "markdown",
      "source": [
        "1. Creación de una Lista:\n",
        "\n"
      ],
      "metadata": {
        "id": "EpAzcDZfBwD4"
      }
    },
    {
      "cell_type": "code",
      "source": [
        "nombres = [\"Juan\", \"María\", \"Pedro\", \"Ana\", \"Luis\"]"
      ],
      "metadata": {
        "id": "Dk-ZNlnGCRi9"
      },
      "execution_count": null,
      "outputs": []
    },
    {
      "cell_type": "markdown",
      "source": [
        "2. Cálculo de Promedio:\n",
        "\n"
      ],
      "metadata": {
        "id": "ejkcX18vBz-N"
      }
    },
    {
      "cell_type": "code",
      "source": [
        "numeros = [25, 30, 40, 35, 28]\n",
        "promedio = sum(numeros) / len(numeros)"
      ],
      "metadata": {
        "id": "DjY4vtp0CUWS"
      },
      "execution_count": null,
      "outputs": []
    },
    {
      "cell_type": "markdown",
      "source": [
        "3. Gráfico de Barras:\n",
        "\n"
      ],
      "metadata": {
        "id": "KeB2f8oVB1Et"
      }
    },
    {
      "cell_type": "code",
      "source": [
        "import matplotlib.pyplot as plt\n",
        "\n",
        "edades = [25, 30, 40, 35, 28]\n",
        "plt.bar(range(len(edades)), edades)\n",
        "plt.show()"
      ],
      "metadata": {
        "id": "N-2bw0T4CYOZ",
        "outputId": "51250309-0ad2-4e0f-afef-ff3e84f3a911",
        "colab": {
          "base_uri": "https://localhost:8080/",
          "height": 430
        }
      },
      "execution_count": null,
      "outputs": [
        {
          "output_type": "display_data",
          "data": {
            "text/plain": [
              "<Figure size 640x480 with 1 Axes>"
            ],
            "image/png": "[encoded data removed]"
          },
          "metadata": {}
        }
      ]
    },
    {
      "cell_type": "markdown",
      "source": [
        "4. Suma de Números Pares:\n",
        "\n"
      ],
      "metadata": {
        "id": "Qx7gOqS1B177"
      }
    },
    {
      "cell_type": "code",
      "source": [
        "def suma_pares(n):\n",
        "    return sum(i for i in range(2, n+1, 2))"
      ],
      "metadata": {
        "id": "ZC7QMsMWCZI5"
      },
      "execution_count": null,
      "outputs": []
    },
    {
      "cell_type": "markdown",
      "source": [
        "5. Cálculo de Factorial:\n",
        "\n"
      ],
      "metadata": {
        "id": "-vIgkQQAB28g"
      }
    },
    {
      "cell_type": "code",
      "source": [
        "def factorial_n(n):\n",
        "    if n == 0:\n",
        "        return 1\n",
        "    else:\n",
        "        return n * factorial_n(n-1)"
      ],
      "metadata": {
        "id": "xVV3dkDTCbZ3"
      },
      "execution_count": null,
      "outputs": []
    },
    {
      "cell_type": "markdown",
      "source": [
        "6. Generación de Números Aleatorios:\n",
        "\n"
      ],
      "metadata": {
        "id": "tJokWvR8B31N"
      }
    },
    {
      "cell_type": "code",
      "source": [
        "import random\n",
        "\n",
        "numeros_aleatorios = [random.randint(1, 100) for _ in range(10)]"
      ],
      "metadata": {
        "id": "xK6_Cp2ECc6S"
      },
      "execution_count": null,
      "outputs": []
    },
    {
      "cell_type": "markdown",
      "source": [
        "7. Filtrado de Datos:\n",
        "\n"
      ],
      "metadata": {
        "id": "woVFaj-JB4rv"
      }
    },
    {
      "cell_type": "code",
      "source": [
        "numeros = [9, 15, 24, 8, 23, 7, 10]\n",
        "filtrados = [n for n in numeros if n > 10]"
      ],
      "metadata": {
        "id": "HeQ2DyI-CeOR"
      },
      "execution_count": null,
      "outputs": []
    },
    {
      "cell_type": "markdown",
      "source": [
        "8. Conteo de Elementos:\n",
        "\n"
      ],
      "metadata": {
        "id": "GS-pjkTKB5vK"
      }
    },
    {
      "cell_type": "code",
      "source": [
        "elementos = ['a', 'b', 'c', 'a', 'b', 'a']\n",
        "frecuencia = {}\n",
        "for elemento in elementos:\n",
        "    if elemento in frecuencia:\n",
        "        frecuencia[elemento] += 1\n",
        "    else:\n",
        "        frecuencia[elemento] = 1"
      ],
      "metadata": {
        "id": "hgLWQxrQCfuU"
      },
      "execution_count": null,
      "outputs": []
    },
    {
      "cell_type": "markdown",
      "source": [
        "9. Cálculo de Correlación:\n",
        "\n"
      ],
      "metadata": {
        "id": "Y2wjeTsYB6nP"
      }
    },
    {
      "cell_type": "code",
      "source": [
        "import numpy as np\n",
        "\n",
        "lista1 = [1, 2, 3, 4, 5]\n",
        "lista2 = [2, 3, 4, 5, 6]"
      ],
      "metadata": {
        "id": "9jZrKPU_CizH"
      },
      "execution_count": null,
      "outputs": []
    },
    {
      "cell_type": "markdown",
      "source": [
        "10. Histograma Personalizado:\n",
        "\n"
      ],
      "metadata": {
        "id": "vz4tZkpPB7gs"
      }
    },
    {
      "cell_type": "code",
      "source": [
        "import matplotlib.pyplot as plt\n",
        "import numpy as np\n",
        "\n",
        "datos = np.random.normal(loc=0, scale=1, size=100)\n",
        "plt.hist(datos, bins=10, color='blue', edgecolor='black')\n",
        "plt.show()"
      ],
      "metadata": {
        "id": "xQhBoKghCkZG",
        "outputId": "3415347a-c943-4802-d23f-9cdff83bcc2e",
        "colab": {
          "base_uri": "https://localhost:8080/",
          "height": 430
        }
      },
      "execution_count": null,
      "outputs": [
        {
          "output_type": "display_data",
          "data": {
            "text/plain": [
              "<Figure size 640x480 with 1 Axes>"
            ],
            "image/png": "[encoded data removed]"
          },
          "metadata": {}
        }
      ]
    }
  ]
}